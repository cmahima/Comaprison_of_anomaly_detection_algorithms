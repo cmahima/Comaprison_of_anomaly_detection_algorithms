{
 "cells": [
  {
   "cell_type": "code",
   "execution_count": 1,
   "metadata": {},
   "outputs": [],
   "source": [
    "import numpy as np\n",
    "import matplotlib.pyplot as plt\n",
    "from scripts.forest import Forest\n",
    "from sklearn.ensemble import IsolationForest\n",
    "from sklearn import mixture\n",
    "from scipy.linalg import qr\n",
    "import scipy.stats as scp\n",
    "from math import cos"
   ]
  },
  {
   "cell_type": "code",
   "execution_count": 2,
   "metadata": {},
   "outputs": [],
   "source": [
    "#n_pts per Gaussian\n",
    "def sample_points(n_dimensions, n_pts, n_zeros):\n",
    "    n_ones = n_pts - n_zeros\n",
    "    pts = np.zeros((n_dimensions,n_pts))\n",
    "    for i in range(n_dimensions):\n",
    "        pts[i,:n_ones] = (2*np.random.randint(2, size=n_ones))-1\n",
    "    return pts\n",
    "        \n",
    "    "
   ]
  },
  {
   "cell_type": "code",
   "execution_count": 3,
   "metadata": {},
   "outputs": [],
   "source": [
    "n_dimensions = 10\n",
    "n_pts = 1000\n",
    "n_zeros = 30\n",
    "pts = sample_points(n_dimensions, n_pts, n_zeros)"
   ]
  },
  {
   "cell_type": "code",
   "execution_count": 34,
   "metadata": {},
   "outputs": [],
   "source": [
    "def get_iso(pts, sample_num):\n",
    "    rng = np.random.RandomState()\n",
    "    dim,n_p = np.shape(pts)\n",
    "    clf = IsolationForest(max_samples = sample_num, random_state = rng, contamination = 0.05, n_estimators= 20, behaviour = \"new\")\n",
    "    clf.fit(np.transpose(pts))\n",
    "    Y = clf.predict(np.transpose(pts))\n",
    "    iso_indices = []\n",
    "    for i in range(len(Y)):\n",
    "        if Y[i] == -1:\n",
    "            iso_indices.append(i)\n",
    "    return iso_indices\n",
    "\n",
    "def get_density(pts, sample_num):\n",
    "    kwargs = {'max_depth': 20, 'n_trees':20,  'max_samples': sample_num, 'max_buckets': 2, 'epsilon': 0.1, 'sample_axis': 1, 'threshold': 0}\n",
    "    forest = Forest(**kwargs)\n",
    "    forest.fit(pts)\n",
    "    gsw_indices, outliers, scores , pst = forest.predict(pts, 0.05)\n",
    "    return gsw_indices"
   ]
  },
  {
   "cell_type": "code",
   "execution_count": 33,
   "metadata": {},
   "outputs": [
    {
     "name": "stdout",
     "output_type": "stream",
     "text": [
      "[30. 30. 30. 30. 30. 30.  0. 30.  0.  0. 30.  0.  0.  0.  0.  0.  0.  0.\n",
      "  0.]\n",
      "[60. 60. 60. 60. 60. 30. 30. 30.  0.  0. 30.  0.  0.  0.  0.  0.  0.  0.\n",
      "  0.]\n",
      "[90. 90. 90. 90. 90. 30. 30. 30.  0. 30. 30.  0.  0. 30.  0.  0.  0.  0.\n",
      "  0.]\n",
      "[120. 120. 120. 120.  90.  60.  30.  60.  30.  30.  60.   0.   0.  30.\n",
      "   0.   0.   0.   0.   0.]\n",
      "[150. 150. 150. 150. 120.  60.  30.  60.  30.  30.  60.   0.   0.  30.\n",
      "   0.   0.   0.   0.   0.]\n",
      "[180. 180. 180. 180. 150.  90.  60.  60.  60.  30.  60.   0.   0.  30.\n",
      "   0.   0.   0.   0.   0.]\n",
      "[210. 210. 210. 210. 150. 120.  90.  60.  60.  30.  60.   0.   0.  30.\n",
      "   0.   0.   0.   0.   0.]\n",
      "[240. 240. 240. 240. 180. 150.  90.  90.  60.  30.  60.   0.   0.  30.\n",
      "   0.   0.   0.   0.   0.]\n",
      "[270. 270. 270. 270. 210. 150.  90.  90.  60.  30.  90.   0.   0.  30.\n",
      "   0.   0.   0.   0.   0.]\n",
      "[300. 300. 300. 300. 240. 180. 120. 120.  60.  30.  90.  30.   0.  30.\n",
      "   0.   0.   0.   0.   0.]\n",
      "[30. 30. 30. 30. 24. 18. 12. 12.  6.  3.  9.  3.  0.  3.  0.  0.  0.  0.\n",
      "  0.]\n"
     ]
    }
   ],
   "source": [
    "n_ex = 19\n",
    "n_rep = 10\n",
    "res_iso = np.zeros(19)\n",
    "truth = range(970,1000)\n",
    "for j in range(n_rep):\n",
    "    for i in range(19):\n",
    "        iso_indexes = get_iso(pts,100 + 50*i)\n",
    "        res_iso[i] += len(set(iso_indexes).intersection(set(truth)))\n",
    "    print(res_iso)\n",
    "res_iso = res_iso / n_rep\n",
    "print(res_iso)"
   ]
  },
  {
   "cell_type": "code",
   "execution_count": 20,
   "metadata": {},
   "outputs": [
    {
     "name": "stdout",
     "output_type": "stream",
     "text": [
      "30.0\n",
      "30.0\n",
      "30.0\n",
      "30.0\n",
      "30.0\n",
      "30.0\n",
      "30.0\n",
      "30.0\n",
      "30.0\n",
      "30.0\n",
      "30.0\n",
      "30.0\n",
      "30.0\n",
      "30.0\n",
      "30.0\n",
      "30.0\n",
      "30.0\n",
      "30.0\n",
      "30.0\n",
      "[30. 30. 30. 30. 30. 30. 30. 30. 30. 30. 30. 30. 30. 30. 30. 30. 30. 30.\n",
      " 30.]\n"
     ]
    }
   ],
   "source": [
    "res = np.zeros(19)\n",
    "truth = range(970,1000)\n",
    "for i in range(19):\n",
    "    gsw_indexes = get_density(pts,100 + 50*i)\n",
    "    res[i] = len(set(gsw_indexes).intersection(set(truth)))\n",
    "    print(res[i])\n",
    "print(res)"
   ]
  },
  {
   "cell_type": "code",
   "execution_count": 32,
   "metadata": {},
   "outputs": [
    {
     "data": {
      "image/png": "[encoded data removed]",
      "text/plain": [
       "<Figure size 432x288 with 1 Axes>"
      ]
     },
     "metadata": {
      "needs_background": "light"
     },
     "output_type": "display_data"
    }
   ],
   "source": [
    "xlabel = np.arange(100, 1050, step=50)\n",
    "plt.title('Affects of masking')\n",
    "plt.plot(xlabel, res_iso / 30, label = \"isolation forest\", linewidth = 2, marker = \"v\")\n",
    "plt.plot(xlabel, res / 30, label = \"density forest\", linewidth = 2, marker = \"o\")\n",
    "plt.xticks(np.arange(100,1050, step = 100))\n",
    "plt.legend()\n",
    "plt.ylabel('accuracy')\n",
    "plt.xlabel('num of samples')\n",
    "plt.savefig(\"masking.pdf\", bbox_inches = 'tight')\n",
    "plt.show()"
   ]
  },
  {
   "cell_type": "markdown",
   "metadata": {},
   "source": [
    "This image is the average accuricy when there are 970 random vectors of dimension 10, and 30 points of all zeros. The error rate is set to 5%.  We check what percentage of the 30 zeros were caught by the algorithm. We see the isolation forest is very sensitive to the number of samples per tree (we have 20 trees). Nothing special about these parameters, the experiment results are pretty robust, in particular, the number of trees could be increased significantly without changing the outcome."
   ]
  },
  {
   "cell_type": "code",
   "execution_count": null,
   "metadata": {},
   "outputs": [],
   "source": []
  }
 ],
 "metadata": {
  "kernelspec": {
   "display_name": "Python 3",
   "language": "python",
   "name": "python3"
  },
  "language_info": {
   "codemirror_mode": {
    "name": "ipython",
    "version": 3
   },
   "file_extension": ".py",
   "mimetype": "text/x-python",
   "name": "python",
   "nbconvert_exporter": "python",
   "pygments_lexer": "ipython3",
   "version": "3.7.0"
  }
 },
 "nbformat": 4,
 "nbformat_minor": 2
}
