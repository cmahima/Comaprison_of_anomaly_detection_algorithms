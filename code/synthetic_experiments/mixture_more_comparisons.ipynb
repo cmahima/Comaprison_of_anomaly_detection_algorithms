{
 "cells": [
  {
   "cell_type": "code",
   "execution_count": 1,
   "metadata": {},
   "outputs": [],
   "source": [
    "import numpy as np\n",
    "import matplotlib.pyplot as plt\n",
    "from scripts.forest import Forest\n",
    "from sklearn.ensemble import IsolationForest\n",
    "from sklearn import mixture\n",
    "from scipy.linalg import qr\n",
    "import scipy.stats as scp\n",
    "from math import cos\n",
    "from sklearn.neighbors import LocalOutlierFactor\n",
    "import rrcf\n",
    "from pyod.models.knn import KNN\n",
    "from pyod.models.pca import PCA\n",
    "from sklearn.svm import OneClassSVM\n",
    "import pandas as pd"
   ]
  },
  {
   "cell_type": "code",
   "execution_count": 2,
   "metadata": {},
   "outputs": [],
   "source": [
    "def add_dimension(arr, dim):\n",
    "    if dim == 0:\n",
    "        return arr\n",
    "    _, n_pts = np.shape(arr)\n",
    "    added = np.random.randint(low=0, high = 100, size = ( dim, n_pts))\n",
    "    added = added - 50\n",
    "    added = added/25\n",
    "    return np.vstack((arr,added))\n",
    "    "
   ]
  },
  {
   "cell_type": "code",
   "execution_count": 3,
   "metadata": {},
   "outputs": [],
   "source": [
    "#n_pts per Gaussian\n",
    "def sample_points(n_Gaussians, n_pts, noisy_dim):\n",
    "    means = []\n",
    "    covs = []\n",
    "    for i in range(n_Gaussians):\n",
    "        #a = np.random.randint(0, 3 * n_Gaussians)\n",
    "        a = 4*i\n",
    "        #b = np.random.randint(0, 3 * n_Gaussians)\n",
    "        b = 4*i\n",
    "        c = np.random.randint(0, 1000)\n",
    "        means.append([a,b])\n",
    "        cov = [[1,cos(c)], [cos(c), 2]]\n",
    "        #cov = [[0.3 + 3*i,0.1],[0.1,0.1 + 3*i]]\n",
    "        covs.append(cov)\n",
    "    G_x = np.zeros((n_Gaussians, n_pts))\n",
    "    G_y = np.zeros((n_Gaussians, n_pts))\n",
    "    pts_l = []\n",
    "    for i in range(n_Gaussians):\n",
    "        G_x[i], G_y[i] = np.random.multivariate_normal(means[i], covs[i], n_pts).T\n",
    "        pts_l.append(np.vstack((G_x[i], G_y[i])))    \n",
    "    pts = np.hstack(pts_l)\n",
    "    noisy_pts = add_dimension(pts, noisy_dim)\n",
    "    return pts, noisy_pts, means, covs\n",
    "    "
   ]
  },
  {
   "cell_type": "code",
   "execution_count": 4,
   "metadata": {},
   "outputs": [],
   "source": [
    "def get_truth(pts, means, covs):    \n",
    "    dist = []\n",
    "    n_G = len(means[0])\n",
    "    for i in range(n_G):\n",
    "        dist.append(scp.multivariate_normal(mean = means[i], cov = covs[i]))\n",
    "    ptsT = np.transpose(pts)\n",
    "    t_scores = np.zeros(len(ptsT))\n",
    "    for i in range(len(t_scores)):\n",
    "        for j in range(n_G):\n",
    "            t_scores[i] += dist[j].pdf(ptsT[i])\n",
    "    t_indices = np.argsort(t_scores)[:100]\n",
    "    return t_indices"
   ]
  },
  {
   "cell_type": "code",
   "execution_count": 21,
   "metadata": {},
   "outputs": [],
   "source": [
    "def get_iso(noisy_pts):\n",
    "    rng = np.random.RandomState(27)\n",
    "    _, n_p = np.shape(noisy_pts)\n",
    "    clf = IsolationForest(max_samples = 100, random_state = rng, contamination = 0.1, n_estimators= int(n_p / 50), behaviour = \"new\")\n",
    "    clf.fit(np.transpose(noisy_pts))\n",
    "    Y = clf.predict(np.transpose(noisy_pts))\n",
    "    iso_indices = []\n",
    "    for i in range(len(Y)):\n",
    "        if Y[i] == -1:\n",
    "            iso_indices.append(i)\n",
    "    return iso_indices\n",
    "\n",
    "def get_lof(noisy_pts):\n",
    "    lof = LocalOutlierFactor(n_neighbors=10, contamination=0.1)\n",
    "    Z = lof.fit_predict(np.transpose(noisy_pts))\n",
    "    lof_indices = []\n",
    "    for i in range(len(Z)):\n",
    "        if Z[i] == -1:\n",
    "            lof_indices.append(i)\n",
    "    return lof_indices\n",
    "\n",
    "def get_density(noisy_pts):\n",
    "    _, n_p = np.shape(noisy_pts)\n",
    "    kwargs = {'max_depth': 12, 'n_trees':20,  'max_samples': 300, 'max_buckets': 3, 'epsilon': 0.1, 'sample_axis': 1, 'threshold': 0}\n",
    "    forest = Forest(**kwargs)\n",
    "    forest.fit(noisy_pts)\n",
    "    gsw_indices, outliers, scores , pst, m_min = forest.predict(noisy_pts, 0.1)\n",
    "    return gsw_indices\n",
    "\n",
    "def get_em(noisy_pts, n_g):\n",
    "    mlf = mixture.GaussianMixture(n_components=n_g, covariance_type='full')\n",
    "    mlf.fit(np.transpose(noisy_pts))\n",
    "    Z = -mlf.score_samples(np.transpose(noisy_pts))\n",
    "    mix_indices = np.argsort(Z)[-100:]\n",
    "    return mix_indices\n",
    "\n",
    "def get_rrcf(noisy_pts):\n",
    "    num_trees = 500\n",
    "    tree_size = 256\n",
    "    X = np.transpose(noisy_pts)\n",
    "    [n,d] = np.shape(X)\n",
    "    forest = []\n",
    "    while len(forest) < num_trees:\n",
    "        # Select random subsets of points uniformly from point set\n",
    "        ixs = np.random.choice(n, size=(n // tree_size, tree_size),\n",
    "               replace=False)\n",
    "        # Add sampled trees to forest\n",
    "        trees = [rrcf.RCTree(X[ix], index_labels=ix) for ix in ixs]\n",
    "        forest.extend(trees)\n",
    "        \n",
    "    avg_codisp = pd.Series(0.0, index=np.arange(n))\n",
    "    index = np.zeros(n)\n",
    "    for tree in forest:\n",
    "        codisp = pd.Series({leaf : tree.codisp(leaf) for leaf in tree.leaves})\n",
    "        avg_codisp[codisp.index] += codisp\n",
    "        np.add.at(index, codisp.index.values, 1)\n",
    "    avg_codisp /= index\n",
    "    alg_scores = avg_codisp\n",
    "    alg_indices = np.argsort(alg_scores)[-100:]\n",
    "    return alg_indices\n",
    "\n",
    "def get_svm(noisy_pts):\n",
    "    X = np.transpose(noisy_pts)\n",
    "    clf = OneClassSVM(kernel='rbf')\n",
    "    clf.fit(X)\n",
    "    alg_scores = clf.score_samples(X)\n",
    "    alg_scores = - alg_scores\n",
    "    alg_indices = np.argsort(alg_scores)[-100:]\n",
    "    return alg_indices\n",
    "\n",
    "def get_knn(noisy_pts):\n",
    "    X = np.transpose(noisy_pts)\n",
    "    clf = KNN()\n",
    "    clf.fit(X)\n",
    "    alg_scores = clf.decision_scores_ \n",
    "    alg_indices = np.argsort(alg_scores)[-100:]\n",
    "    return alg_indices\n",
    "\n",
    "def get_pca(noisy_pts):\n",
    "    X = np.transpose(noisy_pts)\n",
    "    clf = PCA()\n",
    "    clf.fit(X)\n",
    "    alg_scores = clf.decision_scores_ \n",
    "    alg_indices = np.argsort(alg_scores)[-100:]\n",
    "    return alg_indices\n"
   ]
  },
  {
   "cell_type": "code",
   "execution_count": 22,
   "metadata": {},
   "outputs": [
    {
     "name": "stdout",
     "output_type": "stream",
     "text": [
      "n_G:  2 noisy dim:  0\n",
      "IForest \n",
      "PIDForest\n",
      "EM \n",
      "LOF \n",
      "RRCF \n",
      "SVM \n",
      "kNN \n",
      "PCA\n",
      "\n",
      "Exp:  0 Results [us, iso , em, lof, rrcf, svm, knn, pca] 80 50 93 57 75 85 72 48\n",
      "averages for dimension 0 :  [80. 50. 93. 57. 75. 85. 72. 48.]\n",
      "n_G:  2 noisy dim:  1\n",
      "IForest \n",
      "PIDForest\n"
     ]
    },
    {
     "name": "stderr",
     "output_type": "stream",
     "text": [
      "/anaconda3/lib/python3.7/site-packages/sklearn/svm/base.py:196: FutureWarning: The default value of gamma will change from 'auto' to 'scale' in version 0.22 to account better for unscaled features. Set gamma explicitly to 'auto' or 'scale' to avoid this warning.\n",
      "  \"avoid this warning.\", FutureWarning)\n"
     ]
    },
    {
     "name": "stdout",
     "output_type": "stream",
     "text": [
      "EM \n",
      "LOF \n",
      "RRCF \n",
      "SVM \n",
      "kNN \n",
      "PCA\n",
      "\n",
      "Exp:  0 Results [us, iso , em, lof, rrcf, svm, knn, pca] 81 46 80 63 74 77 78 41\n",
      "averages for dimension 1 :  [81. 46. 80. 63. 74. 77. 78. 41.]\n",
      "n_G:  2 noisy dim:  2\n",
      "IForest \n",
      "PIDForest\n"
     ]
    },
    {
     "name": "stderr",
     "output_type": "stream",
     "text": [
      "/anaconda3/lib/python3.7/site-packages/sklearn/svm/base.py:196: FutureWarning: The default value of gamma will change from 'auto' to 'scale' in version 0.22 to account better for unscaled features. Set gamma explicitly to 'auto' or 'scale' to avoid this warning.\n",
      "  \"avoid this warning.\", FutureWarning)\n"
     ]
    },
    {
     "name": "stdout",
     "output_type": "stream",
     "text": [
      "EM \n",
      "LOF \n",
      "RRCF \n",
      "SVM \n",
      "kNN \n",
      "PCA\n",
      "\n",
      "Exp:  0 Results [us, iso , em, lof, rrcf, svm, knn, pca] 70 37 70 68 66 64 68 38\n",
      "averages for dimension 2 :  [70. 37. 70. 68. 66. 64. 68. 38.]\n",
      "n_G:  2 noisy dim:  3\n",
      "IForest \n",
      "PIDForest\n"
     ]
    },
    {
     "name": "stderr",
     "output_type": "stream",
     "text": [
      "/anaconda3/lib/python3.7/site-packages/sklearn/svm/base.py:196: FutureWarning: The default value of gamma will change from 'auto' to 'scale' in version 0.22 to account better for unscaled features. Set gamma explicitly to 'auto' or 'scale' to avoid this warning.\n",
      "  \"avoid this warning.\", FutureWarning)\n"
     ]
    },
    {
     "name": "stdout",
     "output_type": "stream",
     "text": [
      "EM \n",
      "LOF \n",
      "RRCF \n",
      "SVM \n",
      "kNN \n",
      "PCA\n",
      "\n",
      "Exp:  0 Results [us, iso , em, lof, rrcf, svm, knn, pca] 68 36 63 55 68 59 62 38\n",
      "averages for dimension 3 :  [68. 36. 63. 55. 68. 59. 62. 38.]\n",
      "n_G:  2 noisy dim:  4\n",
      "IForest \n",
      "PIDForest\n"
     ]
    },
    {
     "name": "stderr",
     "output_type": "stream",
     "text": [
      "/anaconda3/lib/python3.7/site-packages/sklearn/svm/base.py:196: FutureWarning: The default value of gamma will change from 'auto' to 'scale' in version 0.22 to account better for unscaled features. Set gamma explicitly to 'auto' or 'scale' to avoid this warning.\n",
      "  \"avoid this warning.\", FutureWarning)\n"
     ]
    },
    {
     "name": "stdout",
     "output_type": "stream",
     "text": [
      "EM \n",
      "LOF \n",
      "RRCF \n",
      "SVM \n",
      "kNN \n",
      "PCA\n",
      "\n",
      "Exp:  0 Results [us, iso , em, lof, rrcf, svm, knn, pca] 47 22 59 57 54 49 55 24\n",
      "averages for dimension 4 :  [47. 22. 59. 57. 54. 49. 55. 24.]\n",
      "n_G:  2 noisy dim:  5\n",
      "IForest \n",
      "PIDForest\n"
     ]
    },
    {
     "name": "stderr",
     "output_type": "stream",
     "text": [
      "/anaconda3/lib/python3.7/site-packages/sklearn/svm/base.py:196: FutureWarning: The default value of gamma will change from 'auto' to 'scale' in version 0.22 to account better for unscaled features. Set gamma explicitly to 'auto' or 'scale' to avoid this warning.\n",
      "  \"avoid this warning.\", FutureWarning)\n"
     ]
    },
    {
     "name": "stdout",
     "output_type": "stream",
     "text": [
      "EM \n",
      "LOF \n",
      "RRCF \n",
      "SVM \n",
      "kNN \n",
      "PCA\n",
      "\n",
      "Exp:  0 Results [us, iso , em, lof, rrcf, svm, knn, pca] 52 34 54 50 60 43 53 35\n",
      "averages for dimension 5 :  [52. 34. 54. 50. 60. 43. 53. 35.]\n",
      "n_G:  2 noisy dim:  6\n",
      "IForest \n"
     ]
    },
    {
     "name": "stderr",
     "output_type": "stream",
     "text": [
      "/anaconda3/lib/python3.7/site-packages/sklearn/svm/base.py:196: FutureWarning: The default value of gamma will change from 'auto' to 'scale' in version 0.22 to account better for unscaled features. Set gamma explicitly to 'auto' or 'scale' to avoid this warning.\n",
      "  \"avoid this warning.\", FutureWarning)\n"
     ]
    },
    {
     "name": "stdout",
     "output_type": "stream",
     "text": [
      "PIDForest\n",
      "EM \n",
      "LOF \n",
      "RRCF \n",
      "SVM \n",
      "kNN \n",
      "PCA\n",
      "\n",
      "Exp:  0 Results [us, iso , em, lof, rrcf, svm, knn, pca] 53 19 47 43 56 40 46 31\n",
      "averages for dimension 6 :  [53. 19. 47. 43. 56. 40. 46. 31.]\n",
      "n_G:  2 noisy dim:  7\n",
      "IForest \n",
      "PIDForest\n"
     ]
    },
    {
     "name": "stderr",
     "output_type": "stream",
     "text": [
      "/anaconda3/lib/python3.7/site-packages/sklearn/svm/base.py:196: FutureWarning: The default value of gamma will change from 'auto' to 'scale' in version 0.22 to account better for unscaled features. Set gamma explicitly to 'auto' or 'scale' to avoid this warning.\n",
      "  \"avoid this warning.\", FutureWarning)\n"
     ]
    },
    {
     "name": "stdout",
     "output_type": "stream",
     "text": [
      "error: var_red is -0.5\n",
      "EM \n",
      "LOF \n",
      "RRCF \n",
      "SVM \n",
      "kNN \n",
      "PCA\n",
      "\n",
      "Exp:  0 Results [us, iso , em, lof, rrcf, svm, knn, pca] 54 18 50 47 59 45 52 25\n",
      "averages for dimension 7 :  [54. 18. 50. 47. 59. 45. 52. 25.]\n",
      "n_G:  2 noisy dim:  8\n",
      "IForest \n"
     ]
    },
    {
     "name": "stderr",
     "output_type": "stream",
     "text": [
      "/anaconda3/lib/python3.7/site-packages/sklearn/svm/base.py:196: FutureWarning: The default value of gamma will change from 'auto' to 'scale' in version 0.22 to account better for unscaled features. Set gamma explicitly to 'auto' or 'scale' to avoid this warning.\n",
      "  \"avoid this warning.\", FutureWarning)\n"
     ]
    },
    {
     "name": "stdout",
     "output_type": "stream",
     "text": [
      "PIDForest\n",
      "EM \n",
      "LOF \n",
      "RRCF \n",
      "SVM \n",
      "kNN \n",
      "PCA\n",
      "\n",
      "Exp:  0 Results [us, iso , em, lof, rrcf, svm, knn, pca] 45 18 44 43 45 37 43 31\n",
      "averages for dimension 8 :  [45. 18. 44. 43. 45. 37. 43. 31.]\n",
      "n_G:  2 noisy dim:  9\n",
      "IForest \n",
      "PIDForest\n"
     ]
    },
    {
     "name": "stderr",
     "output_type": "stream",
     "text": [
      "/anaconda3/lib/python3.7/site-packages/sklearn/svm/base.py:196: FutureWarning: The default value of gamma will change from 'auto' to 'scale' in version 0.22 to account better for unscaled features. Set gamma explicitly to 'auto' or 'scale' to avoid this warning.\n",
      "  \"avoid this warning.\", FutureWarning)\n"
     ]
    },
    {
     "name": "stdout",
     "output_type": "stream",
     "text": [
      "EM \n",
      "LOF \n",
      "RRCF \n",
      "SVM \n",
      "kNN \n",
      "PCA\n",
      "\n",
      "Exp:  0 Results [us, iso , em, lof, rrcf, svm, knn, pca] 47 13 39 33 53 37 37 25\n",
      "averages for dimension 9 :  [47. 13. 39. 33. 53. 37. 37. 25.]\n",
      "n_G:  2 noisy dim:  10\n",
      "IForest \n",
      "PIDForest\n"
     ]
    },
    {
     "name": "stderr",
     "output_type": "stream",
     "text": [
      "/anaconda3/lib/python3.7/site-packages/sklearn/svm/base.py:196: FutureWarning: The default value of gamma will change from 'auto' to 'scale' in version 0.22 to account better for unscaled features. Set gamma explicitly to 'auto' or 'scale' to avoid this warning.\n",
      "  \"avoid this warning.\", FutureWarning)\n"
     ]
    },
    {
     "name": "stdout",
     "output_type": "stream",
     "text": [
      "EM \n",
      "LOF \n",
      "RRCF \n",
      "SVM \n",
      "kNN \n",
      "PCA\n",
      "\n",
      "Exp:  0 Results [us, iso , em, lof, rrcf, svm, knn, pca] 62 24 51 44 57 46 47 26\n",
      "averages for dimension 10 :  [62. 24. 51. 44. 57. 46. 47. 26.]\n",
      "n_G:  2 noisy dim:  11\n",
      "IForest \n",
      "PIDForest\n"
     ]
    },
    {
     "name": "stderr",
     "output_type": "stream",
     "text": [
      "/anaconda3/lib/python3.7/site-packages/sklearn/svm/base.py:196: FutureWarning: The default value of gamma will change from 'auto' to 'scale' in version 0.22 to account better for unscaled features. Set gamma explicitly to 'auto' or 'scale' to avoid this warning.\n",
      "  \"avoid this warning.\", FutureWarning)\n"
     ]
    },
    {
     "name": "stdout",
     "output_type": "stream",
     "text": [
      "EM \n",
      "LOF \n",
      "RRCF \n",
      "SVM \n",
      "kNN \n",
      "PCA\n",
      "\n",
      "Exp:  0 Results [us, iso , em, lof, rrcf, svm, knn, pca] 46 14 44 42 48 35 41 18\n",
      "averages for dimension 11 :  [46. 14. 44. 42. 48. 35. 41. 18.]\n",
      "n_G:  2 noisy dim:  12\n",
      "IForest \n",
      "PIDForest\n"
     ]
    },
    {
     "name": "stderr",
     "output_type": "stream",
     "text": [
      "/anaconda3/lib/python3.7/site-packages/sklearn/svm/base.py:196: FutureWarning: The default value of gamma will change from 'auto' to 'scale' in version 0.22 to account better for unscaled features. Set gamma explicitly to 'auto' or 'scale' to avoid this warning.\n",
      "  \"avoid this warning.\", FutureWarning)\n"
     ]
    },
    {
     "name": "stdout",
     "output_type": "stream",
     "text": [
      "EM \n",
      "LOF \n",
      "RRCF \n",
      "SVM \n",
      "kNN \n",
      "PCA\n",
      "\n"
     ]
    },
    {
     "name": "stderr",
     "output_type": "stream",
     "text": [
      "/anaconda3/lib/python3.7/site-packages/sklearn/svm/base.py:196: FutureWarning: The default value of gamma will change from 'auto' to 'scale' in version 0.22 to account better for unscaled features. Set gamma explicitly to 'auto' or 'scale' to avoid this warning.\n",
      "  \"avoid this warning.\", FutureWarning)\n"
     ]
    },
    {
     "name": "stdout",
     "output_type": "stream",
     "text": [
      "Exp:  0 Results [us, iso , em, lof, rrcf, svm, knn, pca] 60 17 39 31 54 37 35 22\n",
      "averages for dimension 12 :  [60. 17. 39. 31. 54. 37. 35. 22.]\n",
      "n_G:  2 noisy dim:  13\n",
      "IForest \n",
      "PIDForest\n",
      "EM \n",
      "LOF \n",
      "RRCF \n",
      "SVM \n",
      "kNN \n",
      "PCA\n",
      "\n",
      "Exp:  0 Results [us, iso , em, lof, rrcf, svm, knn, pca] 49 13 40 37 49 43 42 27\n",
      "averages for dimension 13 :  [49. 13. 40. 37. 49. 43. 42. 27.]\n",
      "n_G:  2 noisy dim:  14\n",
      "IForest \n",
      "PIDForest\n"
     ]
    },
    {
     "name": "stderr",
     "output_type": "stream",
     "text": [
      "/anaconda3/lib/python3.7/site-packages/sklearn/svm/base.py:196: FutureWarning: The default value of gamma will change from 'auto' to 'scale' in version 0.22 to account better for unscaled features. Set gamma explicitly to 'auto' or 'scale' to avoid this warning.\n",
      "  \"avoid this warning.\", FutureWarning)\n"
     ]
    },
    {
     "name": "stdout",
     "output_type": "stream",
     "text": [
      "EM \n",
      "LOF \n",
      "RRCF \n",
      "SVM \n",
      "kNN \n",
      "PCA\n",
      "\n",
      "Exp:  0 Results [us, iso , em, lof, rrcf, svm, knn, pca] 56 13 47 39 57 38 40 28\n",
      "averages for dimension 14 :  [56. 13. 47. 39. 57. 38. 40. 28.]\n",
      "n_G:  2 noisy dim:  15\n",
      "IForest \n",
      "PIDForest\n"
     ]
    },
    {
     "name": "stderr",
     "output_type": "stream",
     "text": [
      "/anaconda3/lib/python3.7/site-packages/sklearn/svm/base.py:196: FutureWarning: The default value of gamma will change from 'auto' to 'scale' in version 0.22 to account better for unscaled features. Set gamma explicitly to 'auto' or 'scale' to avoid this warning.\n",
      "  \"avoid this warning.\", FutureWarning)\n"
     ]
    },
    {
     "name": "stdout",
     "output_type": "stream",
     "text": [
      "EM \n",
      "LOF \n",
      "RRCF \n",
      "SVM \n",
      "kNN \n",
      "PCA\n",
      "\n",
      "Exp:  0 Results [us, iso , em, lof, rrcf, svm, knn, pca] 55 21 35 32 53 38 39 20\n",
      "averages for dimension 15 :  [55. 21. 35. 32. 53. 38. 39. 20.]\n",
      "n_G:  2 noisy dim:  16\n",
      "IForest \n",
      "PIDForest\n"
     ]
    },
    {
     "name": "stderr",
     "output_type": "stream",
     "text": [
      "/anaconda3/lib/python3.7/site-packages/sklearn/svm/base.py:196: FutureWarning: The default value of gamma will change from 'auto' to 'scale' in version 0.22 to account better for unscaled features. Set gamma explicitly to 'auto' or 'scale' to avoid this warning.\n",
      "  \"avoid this warning.\", FutureWarning)\n"
     ]
    },
    {
     "name": "stdout",
     "output_type": "stream",
     "text": [
      "EM \n",
      "LOF \n",
      "RRCF \n",
      "SVM \n",
      "kNN \n",
      "PCA\n",
      "\n",
      "Exp:  0 Results [us, iso , em, lof, rrcf, svm, knn, pca] 44 11 36 41 44 35 42 16\n",
      "averages for dimension 16 :  [44. 11. 36. 41. 44. 35. 42. 16.]\n",
      "n_G:  2 noisy dim:  17\n",
      "IForest \n"
     ]
    },
    {
     "name": "stderr",
     "output_type": "stream",
     "text": [
      "/anaconda3/lib/python3.7/site-packages/sklearn/svm/base.py:196: FutureWarning: The default value of gamma will change from 'auto' to 'scale' in version 0.22 to account better for unscaled features. Set gamma explicitly to 'auto' or 'scale' to avoid this warning.\n",
      "  \"avoid this warning.\", FutureWarning)\n"
     ]
    },
    {
     "name": "stdout",
     "output_type": "stream",
     "text": [
      "PIDForest\n",
      "EM \n",
      "LOF \n",
      "RRCF \n",
      "SVM \n",
      "kNN \n",
      "PCA\n",
      "\n",
      "Exp:  0 Results [us, iso , em, lof, rrcf, svm, knn, pca] 51 14 35 28 46 41 34 19\n",
      "averages for dimension 17 :  [51. 14. 35. 28. 46. 41. 34. 19.]\n",
      "n_G:  2 noisy dim:  18\n",
      "IForest \n"
     ]
    },
    {
     "name": "stderr",
     "output_type": "stream",
     "text": [
      "/anaconda3/lib/python3.7/site-packages/sklearn/svm/base.py:196: FutureWarning: The default value of gamma will change from 'auto' to 'scale' in version 0.22 to account better for unscaled features. Set gamma explicitly to 'auto' or 'scale' to avoid this warning.\n",
      "  \"avoid this warning.\", FutureWarning)\n"
     ]
    },
    {
     "name": "stdout",
     "output_type": "stream",
     "text": [
      "PIDForest\n",
      "EM \n",
      "LOF \n",
      "RRCF \n",
      "SVM \n",
      "kNN \n",
      "PCA\n",
      "\n",
      "Exp:  0 Results [us, iso , em, lof, rrcf, svm, knn, pca] 49 9 33 33 46 35 35 19\n",
      "averages for dimension 18 :  [49.  9. 33. 33. 46. 35. 35. 19.]\n",
      "n_G:  2 noisy dim:  19\n",
      "IForest \n"
     ]
    },
    {
     "name": "stderr",
     "output_type": "stream",
     "text": [
      "/anaconda3/lib/python3.7/site-packages/sklearn/svm/base.py:196: FutureWarning: The default value of gamma will change from 'auto' to 'scale' in version 0.22 to account better for unscaled features. Set gamma explicitly to 'auto' or 'scale' to avoid this warning.\n",
      "  \"avoid this warning.\", FutureWarning)\n"
     ]
    },
    {
     "name": "stdout",
     "output_type": "stream",
     "text": [
      "PIDForest\n",
      "EM \n",
      "LOF \n",
      "RRCF \n",
      "SVM \n",
      "kNN \n",
      "PCA\n",
      "\n",
      "Exp:  0 Results [us, iso , em, lof, rrcf, svm, knn, pca] 46 16 35 35 43 35 31 16\n",
      "averages for dimension 19 :  [46. 16. 35. 35. 43. 35. 31. 16.]\n"
     ]
    },
    {
     "name": "stderr",
     "output_type": "stream",
     "text": [
      "/anaconda3/lib/python3.7/site-packages/sklearn/svm/base.py:196: FutureWarning: The default value of gamma will change from 'auto' to 'scale' in version 0.22 to account better for unscaled features. Set gamma explicitly to 'auto' or 'scale' to avoid this warning.\n",
      "  \"avoid this warning.\", FutureWarning)\n"
     ]
    }
   ],
   "source": [
    "n_Gaussians = 2\n",
    "n_pts = 500\n",
    "n_exp = 1\n",
    "dimensions = 20\n",
    "final_res = np.zeros((8, dimensions))\n",
    "for noisy_dim in range(dimensions):\n",
    "    print(\"n_G: \", n_Gaussians, \"noisy dim: \", noisy_dim)\n",
    "    res = np.zeros((8, n_exp))\n",
    "    for exp in range(n_exp):    \n",
    "        pts, noisy_pts, means, covs = sample_points(n_Gaussians, n_pts, noisy_dim)\n",
    "        t_indices = get_truth(pts, means, covs)\n",
    "        print('IForest ')\n",
    "        iso_indices = get_iso(noisy_pts)\n",
    "        print('PIDForest')\n",
    "        gsw_indices = get_density(noisy_pts)\n",
    "        print('EM ')\n",
    "        em_indices = get_em(noisy_pts, n_Gaussians)\n",
    "        print('LOF ')\n",
    "        lof_indices = get_lof(noisy_pts)\n",
    "        print('RRCF ')\n",
    "        rrcf_indices = get_rrcf(noisy_pts)\n",
    "        print('SVM ')\n",
    "        svm_indices = get_svm(noisy_pts)\n",
    "        print('kNN ')\n",
    "        knn_indices = get_knn(noisy_pts)\n",
    "        print('PCA\\n')\n",
    "        pca_indices = get_pca(noisy_pts)\n",
    "        us = len(set(t_indices).intersection(set(gsw_indices)))\n",
    "        iso = len(set(t_indices).intersection(set(iso_indices)))\n",
    "        em = len(set(em_indices).intersection(set(t_indices)))\n",
    "        lof = len(set(lof_indices).intersection(set(t_indices)))\n",
    "        rrcf_int = len(set(t_indices).intersection(set(rrcf_indices)))\n",
    "        svm_int = len(set(t_indices).intersection(set(svm_indices)))\n",
    "        knn_int = len(set(t_indices).intersection(set(knn_indices)))\n",
    "        pca_int = len(set(t_indices).intersection(set(pca_indices)))\n",
    "        \n",
    "        res[:, exp] = [us, iso, em, lof, rrcf_int, svm_int, knn_int, pca_int]\n",
    "        print(\"Exp: \", exp, \"Results [us, iso , em, lof, rrcf, svm, knn, pca]\", us, iso, em, lof, rrcf_int, svm_int, knn_int, pca_int)\n",
    "    final_res[:, noisy_dim] = [np.average(res[0,:]), np.average(res[1,:]), np.average(res[2,:]), np.average(res[3,:]), np.average(res[4,:]), np.average(res[5,:]), np.average(res[6,:]), np.average(res[7,:])]\n",
    "    print(\"averages for dimension\", noisy_dim, \": \", final_res[:,noisy_dim])"
   ]
  },
  {
   "cell_type": "code",
   "execution_count": 23,
   "metadata": {},
   "outputs": [
    {
     "name": "stdout",
     "output_type": "stream",
     "text": [
      "[[80. 81. 70. 68. 47. 52. 53. 54. 45. 47. 62. 46. 60. 49. 56. 55. 44. 51.\n",
      "  49. 46.]\n",
      " [50. 46. 37. 36. 22. 34. 19. 18. 18. 13. 24. 14. 17. 13. 13. 21. 11. 14.\n",
      "   9. 16.]\n",
      " [93. 80. 70. 63. 59. 54. 47. 50. 44. 39. 51. 44. 39. 40. 47. 35. 36. 35.\n",
      "  33. 35.]\n",
      " [57. 63. 68. 55. 57. 50. 43. 47. 43. 33. 44. 42. 31. 37. 39. 32. 41. 28.\n",
      "  33. 35.]\n",
      " [75. 74. 66. 68. 54. 60. 56. 59. 45. 53. 57. 48. 54. 49. 57. 53. 44. 46.\n",
      "  46. 43.]\n",
      " [85. 77. 64. 59. 49. 43. 40. 45. 37. 37. 46. 35. 37. 43. 38. 38. 35. 41.\n",
      "  35. 35.]\n",
      " [72. 78. 68. 62. 55. 53. 46. 52. 43. 37. 47. 41. 35. 42. 40. 39. 42. 34.\n",
      "  35. 31.]\n",
      " [48. 41. 38. 38. 24. 35. 31. 25. 31. 25. 26. 18. 22. 27. 28. 20. 16. 19.\n",
      "  19. 16.]]\n"
     ]
    }
   ],
   "source": [
    "print(final_res)"
   ]
  },
  {
   "cell_type": "code",
   "execution_count": null,
   "metadata": {},
   "outputs": [],
   "source": [
    "np.savetxt('mixture_noise_all.text', final_res)"
   ]
  },
  {
   "cell_type": "code",
   "execution_count": 24,
   "metadata": {},
   "outputs": [
    {
     "data": {
      "image/png": "[encoded data removed]",
      "text/plain": [
       "<Figure size 432x288 with 1 Axes>"
      ]
     },
     "metadata": {
      "needs_background": "light"
     },
     "output_type": "display_data"
    }
   ],
   "source": [
    "#plt.figure(figsize=(20,10))\n",
    "plt.rcParams.update({'font.size':14})\n",
    "plt.title('Mixture of Gaussians with added Noise')\n",
    "plt.plot(final_res[0,:], label = \"PIDForest\", linewidth = 2, marker = \"v\")\n",
    "plt.plot(final_res[1,:], label = \"Isolation Forest\", linewidth = 2, marker = \"o\")\n",
    "plt.plot(final_res[2,:], label = \"EM\", linewidth = 2, marker = \"s\")\n",
    "plt.plot(final_res[3,:], label = \"LOF\", linewidth = 2, marker = \"+\")\n",
    "\n",
    "plt.xticks(np.arange(0, 20, step=2))\n",
    "plt.legend(prop={'size':13})\n",
    "plt.ylabel('accuracy')\n",
    "plt.xlabel('noise dimension')\n",
    "plt.axis([0, 20, 0, 100])\n",
    "# plt.savefig(\"noisy_Gaussian.pdf\", bbox_inches = 'tight')\n",
    "plt.show()"
   ]
  },
  {
   "cell_type": "code",
   "execution_count": 27,
   "metadata": {},
   "outputs": [
    {
     "data": {
      "image/png": "[encoded data removed]",
      "text/plain": [
       "<Figure size 432x288 with 1 Axes>"
      ]
     },
     "metadata": {
      "needs_background": "light"
     },
     "output_type": "display_data"
    }
   ],
   "source": [
    "#plt.figure(figsize=(20,10))\n",
    "plt.rcParams.update({'font.size':14})\n",
    "plt.title('Mixture of Gaussians with added Noise')\n",
    "plt.plot(final_res[0,:], label = \"PIDForest\", linewidth = 2, marker = \".\")\n",
    "plt.plot(final_res[4,:], label = \"RRCF\", linewidth = 2, marker = \"v\")\n",
    "plt.plot(final_res[5,:], label = \"SVM\", linewidth = 2, marker = \"o\")\n",
    "plt.plot(final_res[6,:], label = \"kNN\", linewidth = 2, marker = \"s\")\n",
    "plt.plot(final_res[7,:], label = \"PCA\", linewidth = 2, marker = \"+\")\n",
    "\n",
    "plt.xticks(np.arange(0, 20, step=2))\n",
    "plt.legend(prop={'size':13})\n",
    "plt.ylabel('accuracy')\n",
    "plt.xlabel('noise dimension')\n",
    "plt.axis([0, 20, 0, 100])\n",
    "plt.savefig(\"noisy_Gaussian_all.pdf\", bbox_inches = 'tight')\n",
    "plt.show()"
   ]
  },
  {
   "cell_type": "code",
   "execution_count": 26,
   "metadata": {},
   "outputs": [
    {
     "data": {
      "text/plain": [
       "array([[80., 81., 70., 68., 47., 52., 53., 54., 45., 47., 62., 46., 60.,\n",
       "        49., 56., 55., 44., 51., 49., 46.],\n",
       "       [50., 46., 37., 36., 22., 34., 19., 18., 18., 13., 24., 14., 17.,\n",
       "        13., 13., 21., 11., 14.,  9., 16.],\n",
       "       [93., 80., 70., 63., 59., 54., 47., 50., 44., 39., 51., 44., 39.,\n",
       "        40., 47., 35., 36., 35., 33., 35.],\n",
       "       [57., 63., 68., 55., 57., 50., 43., 47., 43., 33., 44., 42., 31.,\n",
       "        37., 39., 32., 41., 28., 33., 35.],\n",
       "       [75., 74., 66., 68., 54., 60., 56., 59., 45., 53., 57., 48., 54.,\n",
       "        49., 57., 53., 44., 46., 46., 43.],\n",
       "       [85., 77., 64., 59., 49., 43., 40., 45., 37., 37., 46., 35., 37.,\n",
       "        43., 38., 38., 35., 41., 35., 35.],\n",
       "       [72., 78., 68., 62., 55., 53., 46., 52., 43., 37., 47., 41., 35.,\n",
       "        42., 40., 39., 42., 34., 35., 31.],\n",
       "       [48., 41., 38., 38., 24., 35., 31., 25., 31., 25., 26., 18., 22.,\n",
       "        27., 28., 20., 16., 19., 19., 16.]])"
      ]
     },
     "execution_count": 26,
     "metadata": {},
     "output_type": "execute_result"
    }
   ],
   "source": [
    "final_res"
   ]
  },
  {
   "cell_type": "code",
   "execution_count": null,
   "metadata": {},
   "outputs": [],
   "source": []
  }
 ],
 "metadata": {
  "kernelspec": {
   "display_name": "Python 3",
   "language": "python",
   "name": "python3"
  },
  "language_info": {
   "codemirror_mode": {
    "name": "ipython",
    "version": 3
   },
   "file_extension": ".py",
   "mimetype": "text/x-python",
   "name": "python",
   "nbconvert_exporter": "python",
   "pygments_lexer": "ipython3",
   "version": "3.7.3"
  }
 },
 "nbformat": 4,
 "nbformat_minor": 2
}
